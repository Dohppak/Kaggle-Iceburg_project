{
 "cells": [
  {
   "cell_type": "markdown",
   "metadata": {},
   "source": [
    "# Project overview\n",
    "\n",
    "- Problem : Companies advertise online, click fraud can haapen.\n",
    "    - Resulting in misleading click data and wasted money.\n",
    "    - 3 billion clicks per day, of which 90% are potentially fradulent.\n",
    "- Current Solution : measure the journey of a user's click across their portfolio, and flag IP addresses who produce lots of clicks. \n",
    "    - build IP blacklist and device blacklist.\n",
    "- Challenge : build an algorithm that predicts whether a user will download an app after clicking a mobile app ad.\n",
    "\n",
    "#### Goal : predict if a person after clicking a mobile app advertisement will download the app. The data is highly unbalanced with only 0.25% data of positive class."
   ]
  },
  {
   "cell_type": "markdown",
   "metadata": {},
   "source": [
    "#### 레퍼런스 정리\n",
    "\n",
    "- 튜토리얼\n",
    "    - Overall\n",
    "        - https://www.kaggle.com/ryotasuzuki/play-with-dataset-roc-75\n",
    "        - https://github.com/kimkartavyavimudh/Kaggle-TalkingData/blob/master/Exploration%2Bon%2BFull%2BSet.ipynb\n",
    "    - EDA \n",
    "        - https://www.kaggle.com/gopisaran/indepth-eda-entire-talkingdata-dataset\n",
    "        - https://www.kaggle.com/kz23szk/talking-data-eda-seen-from-the-purpose-of-fraud\n",
    "    - visalizing\n",
    "        - https://www.kaggle.com/avanwyk/talkingdata-data-exploration-and-class-weights\n",
    "        - https://www.kaggle.com/gopisaran/indepth-eda-entire-talkingdata-dataset\n",
    "    - feature engineering \n",
    "        - https://www.kaggle.com/nanomathias/feature-engineering-importance-testing\n",
    "\n",
    "- 결과물 \n",
    "    - 랜덤포레스트\n",
    "        - https://www.kaggle.com/codeastar/random-forest-classification-on-talkingdata\n",
    "    - Simple linear Stacking\n",
    "        - https://www.kaggle.com/aharless/simple-linear-stacking-lb-9730\n",
    "    - Deeplearning\n",
    "        - https://www.kaggle.com/gowrishankarin/rnn-gru-4-layers-modified-nn-arch-of-kireev\n",
    "        - https://www.kaggle.com/alexanderkireev/experiments-with-imbalance-nn-architecture/code\n",
    "        - https://www.kaggle.com/aharless/talkingdata-gpu-example-with-multiple-runs\n",
    "        - \n",
    "        "
   ]
  },
  {
   "cell_type": "markdown",
   "metadata": {},
   "source": [
    "## 1. File overview\n",
    "\n",
    "- train.csv - the training set\n",
    "- train_sample.csv - 100,000 randomly-selected rows of training data, to inspect data before downloading full set \n",
    "- test.csv - the test set\n",
    "- sampleSubmission.csv - a sample submission file in the correct format \n",
    "- UPDATE: test_supplement.csv - This is a larger test set that was unintentionally released at the start of the competition. It is not necessary to use this data, but it is permitted to do so. The official test data is a subset of this data.\n",
    "\n",
    "### Data fields\n",
    "Each row of the training data contains a click record, with the following features.\n",
    "\n",
    "- ip: ip address of click.\n",
    "- app: app id for marketing.\n",
    "- device: device type id of user mobile phone (e.g., iphone 6 plus, iphone 7, huawei mate 7, etc.)\n",
    "- os: os version id of user mobile phone\n",
    "- channel: channel id of mobile ad publisher\n",
    "- click_time: timestamp of click (UTC)\n",
    "- attributed_time: if user download the app for after clicking an ad, this is the time of the app download\n",
    "- is_attributed: the target that is to be predicted, indicating the app was downloaded Note that ip, app, device, os, and channel are encoded.\n",
    "\n",
    "The test data is similar, with the following differences:\n",
    "\n",
    "- click_id: reference for making predictions\n",
    "- is_attributed: not included"
   ]
  },
  {
   "cell_type": "code",
   "execution_count": null,
   "metadata": {
    "collapsed": true
   },
   "outputs": [],
   "source": []
  }
 ],
 "metadata": {
  "kernelspec": {
   "display_name": "Python 3",
   "language": "python",
   "name": "python3"
  },
  "language_info": {
   "codemirror_mode": {
    "name": "ipython",
    "version": 3
   },
   "file_extension": ".py",
   "mimetype": "text/x-python",
   "name": "python",
   "nbconvert_exporter": "python",
   "pygments_lexer": "ipython3",
   "version": "3.6.3"
  }
 },
 "nbformat": 4,
 "nbformat_minor": 2
}
