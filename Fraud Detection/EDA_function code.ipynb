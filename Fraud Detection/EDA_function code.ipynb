{
 "cells": [
  {
   "cell_type": "code",
   "execution_count": 3,
   "metadata": {
    "collapsed": true
   },
   "outputs": [],
   "source": [
    "import numpy as np\n",
    "import pandas as pd\n",
    "import seaborn as sns\n",
    "sns.set(style=\"whitegrid\", color_codes=True)\n",
    "sns.set(font_scale=1)\n",
    "pd.set_option('display.float_format', lambda x: '%.3f' % x)\n",
    "import matplotlib.pyplot as plt\n",
    "%matplotlib inline\n",
    "import time\n",
    "from subprocess import check_output\n",
    "path = '../../../DEVELOPMENT/Fraud Detection/input/'\n",
    "import gc\n",
    "\n",
    "\n",
    "dtypes = {\n",
    "        'ip'            : 'uint32',\n",
    "        'app'           : 'uint16',\n",
    "        'device'        : 'uint16',\n",
    "        'os'            : 'uint16',\n",
    "        'channel'       : 'uint16',\n",
    "        'is_attributed' : 'uint8',\n",
    "        'click_id'      : 'uint32'\n",
    "        }\n",
    "\n",
    "from sklearn.linear_model import LogisticRegression\n",
    "from scipy.special import expit, logit\n",
    "from sklearn.metrics import roc_auc_score\n",
    "from sklearn.model_selection import train_test_split\n",
    "from sklearn.metrics import f1_score,confusion_matrix"
   ]
  },
  {
   "cell_type": "code",
   "execution_count": 4,
   "metadata": {
    "collapsed": true
   },
   "outputs": [],
   "source": [
    "train_sample = pd.read_csv(path+'train_sample.csv', dtype=dtypes)\n",
    "test = pd.read_csv(path+'test.csv', dtype=dtypes)"
   ]
  },
  {
   "cell_type": "code",
   "execution_count": 5,
   "metadata": {},
   "outputs": [
    {
     "data": {
      "text/plain": [
       "33"
      ]
     },
     "execution_count": 5,
     "metadata": {},
     "output_type": "execute_result"
    }
   ],
   "source": [
    "sub = pd.DataFrame()\n",
    "sub['click_id'] = test['click_id'].astype('int')\n",
    "test.drop(['click_id'], axis=1, inplace=True)\n",
    "gc.collect()"
   ]
  },
  {
   "cell_type": "code",
   "execution_count": 6,
   "metadata": {
    "collapsed": true
   },
   "outputs": [],
   "source": [
    "def prep_data(d):\n",
    "    d['hour'] = pd.to_datetime(d.click_time).dt.hour.astype('uint8')\n",
    "    d['day'] = pd.to_datetime(d.click_time).dt.day.astype('uint8')\n",
    "    d['wday']  = pd.to_datetime(d.click_time).dt.dayofweek.astype('uint8')\n",
    "\n",
    "    print('hour/download combination')\n",
    "    gp = d.groupby('hour', as_index = False).count()\n",
    "    gp = d[['hour', 'app', 'attributed_time']].groupby(by='hour').count().reset_index()\n",
    "    gp = gp.rename(columns = {'app': 'click_count', 'attributed_time': 'download_count'})\n",
    "    gp['h_download_rate'] = gp['download_count'] / gp['click_count'] * 100\n",
    "    d = d.merge(gp[['hour','h_download_rate']], on='hour' ,how='left')\n",
    "    del gp; gc.collect()\n",
    "    \n",
    "    print('ip/download combination')\n",
    "    gp = d.groupby('ip', as_index = False).count()\n",
    "    gp = d[['ip', 'app', 'attributed_time']].groupby(by='ip').count().reset_index()\n",
    "    gp = gp.rename(columns = {'app': 'click_count', 'attributed_time': 'download_count'})\n",
    "    gp['i_download_rate'] = gp['download_count'] / gp['click_count'] * 100\n",
    "    d = d.merge(gp[['ip','i_download_rate']], on='ip' ,how='left')\n",
    "    del gp; gc.collect()\n",
    "    \n",
    "    print('device/download combination')\n",
    "    gp = d.groupby('device', as_index = False).count()\n",
    "    gp = d[['device', 'app', 'attributed_time']].groupby(by='device').count().reset_index()\n",
    "    gp = gp.rename(columns = {'app': 'click_count', 'attributed_time': 'download_count'})\n",
    "    gp['d_download_rate'] = gp['download_count'] / gp['click_count'] * 100\n",
    "    d = d.merge(gp[['device','d_download_rate']], on='device' ,how='left')\n",
    "    del gp; gc.collect()\n",
    "\n",
    "    print('os/download combination')\n",
    "    gp = d.groupby('os', as_index = False).count()\n",
    "    gp = d[['os', 'app', 'attributed_time']].groupby(by='os').count().reset_index()\n",
    "    gp = gp.rename(columns = {'app': 'click_count', 'attributed_time': 'download_count'})\n",
    "    gp['o_download_rate'] = gp['download_count'] / gp['click_count'] * 100\n",
    "    d = d.merge(gp[['os','o_download_rate']], on='os' ,how='left')\n",
    "    del gp; gc.collect()\n",
    "    \n",
    "    print('channel/download combination')\n",
    "    gp = d.groupby('channel', as_index = False).count()\n",
    "    gp = d[['channel', 'app', 'attributed_time']].groupby(by='channel').count().reset_index()\n",
    "    gp = gp.rename(columns = {'app': 'click_count', 'attributed_time': 'download_count'})\n",
    "    gp['c_download_rate'] = gp['download_count'] / gp['click_count'] * 100\n",
    "    d = d.merge(gp[['channel','c_download_rate']], on='channel' ,how='left')\n",
    "    del gp; gc.collect()\n",
    "\n",
    "    print(\"vars and data type\")\n",
    "    d['h_download_rate'] = d['h_download_rate'].astype('float64')\n",
    "    d['i_download_rate'] = d['i_download_rate'].astype('float64')\n",
    "    d['d_download_rate'] = d['d_download_rate'].astype('float64')\n",
    "    d['o_download_rate'] = d['o_download_rate'].astype('float64')\n",
    "    d['c_download_rate'] = d['c_download_rate'].astype('float64')\n",
    "    \n",
    "    print(\"label encoding....\")\n",
    "    from sklearn.preprocessing import LabelEncoder\n",
    "    d[['app','device','os', 'channel', 'hour', 'day', 'wday']].apply(LabelEncoder().fit_transform)\n",
    "    print('dropping')\n",
    "    d.drop(['click_time', 'attributed_time'], 1, inplace=True)\n",
    "        \n",
    "    return d"
   ]
  },
  {
   "cell_type": "code",
   "execution_count": 7,
   "metadata": {},
   "outputs": [
    {
     "name": "stdout",
     "output_type": "stream",
     "text": [
      "hour/download combination\n",
      "ip/download combination\n",
      "device/download combination\n",
      "os/download combination\n",
      "channel/download combination\n",
      "vars and data type\n",
      "label encoding....\n",
      "dropping\n"
     ]
    }
   ],
   "source": [
    "train_df = prep_data(train_sample)"
   ]
  },
  {
   "cell_type": "code",
   "execution_count": 13,
   "metadata": {},
   "outputs": [
    {
     "data": {
      "text/html": [
       "<div>\n",
       "<style scoped>\n",
       "    .dataframe tbody tr th:only-of-type {\n",
       "        vertical-align: middle;\n",
       "    }\n",
       "\n",
       "    .dataframe tbody tr th {\n",
       "        vertical-align: top;\n",
       "    }\n",
       "\n",
       "    .dataframe thead th {\n",
       "        text-align: right;\n",
       "    }\n",
       "</style>\n",
       "<table border=\"1\" class=\"dataframe\">\n",
       "  <thead>\n",
       "    <tr style=\"text-align: right;\">\n",
       "      <th></th>\n",
       "      <th>ip</th>\n",
       "      <th>app</th>\n",
       "      <th>device</th>\n",
       "      <th>os</th>\n",
       "      <th>channel</th>\n",
       "      <th>is_attributed</th>\n",
       "      <th>hour</th>\n",
       "      <th>day</th>\n",
       "      <th>wday</th>\n",
       "      <th>h_download_rate</th>\n",
       "      <th>i_download_rate</th>\n",
       "      <th>d_download_rate</th>\n",
       "      <th>o_download_rate</th>\n",
       "      <th>c_download_rate</th>\n",
       "    </tr>\n",
       "  </thead>\n",
       "  <tbody>\n",
       "    <tr>\n",
       "      <th>99990</th>\n",
       "      <td>84388</td>\n",
       "      <td>9</td>\n",
       "      <td>1</td>\n",
       "      <td>22</td>\n",
       "      <td>107</td>\n",
       "      <td>0</td>\n",
       "      <td>4</td>\n",
       "      <td>9</td>\n",
       "      <td>3</td>\n",
       "      <td>0.166</td>\n",
       "      <td>0.000</td>\n",
       "      <td>0.155</td>\n",
       "      <td>0.149</td>\n",
       "      <td>0.022</td>\n",
       "    </tr>\n",
       "    <tr>\n",
       "      <th>99991</th>\n",
       "      <td>43374</td>\n",
       "      <td>1</td>\n",
       "      <td>1</td>\n",
       "      <td>18</td>\n",
       "      <td>134</td>\n",
       "      <td>0</td>\n",
       "      <td>12</td>\n",
       "      <td>9</td>\n",
       "      <td>3</td>\n",
       "      <td>0.263</td>\n",
       "      <td>0.000</td>\n",
       "      <td>0.155</td>\n",
       "      <td>0.083</td>\n",
       "      <td>0.031</td>\n",
       "    </tr>\n",
       "    <tr>\n",
       "      <th>99992</th>\n",
       "      <td>125061</td>\n",
       "      <td>12</td>\n",
       "      <td>1</td>\n",
       "      <td>13</td>\n",
       "      <td>328</td>\n",
       "      <td>0</td>\n",
       "      <td>9</td>\n",
       "      <td>7</td>\n",
       "      <td>1</td>\n",
       "      <td>0.205</td>\n",
       "      <td>0.000</td>\n",
       "      <td>0.155</td>\n",
       "      <td>0.118</td>\n",
       "      <td>0.000</td>\n",
       "    </tr>\n",
       "    <tr>\n",
       "      <th>99993</th>\n",
       "      <td>146258</td>\n",
       "      <td>3</td>\n",
       "      <td>1</td>\n",
       "      <td>13</td>\n",
       "      <td>280</td>\n",
       "      <td>0</td>\n",
       "      <td>3</td>\n",
       "      <td>9</td>\n",
       "      <td>3</td>\n",
       "      <td>0.285</td>\n",
       "      <td>0.000</td>\n",
       "      <td>0.155</td>\n",
       "      <td>0.118</td>\n",
       "      <td>0.025</td>\n",
       "    </tr>\n",
       "    <tr>\n",
       "      <th>99994</th>\n",
       "      <td>147153</td>\n",
       "      <td>13</td>\n",
       "      <td>1</td>\n",
       "      <td>13</td>\n",
       "      <td>477</td>\n",
       "      <td>0</td>\n",
       "      <td>7</td>\n",
       "      <td>7</td>\n",
       "      <td>1</td>\n",
       "      <td>0.255</td>\n",
       "      <td>0.000</td>\n",
       "      <td>0.155</td>\n",
       "      <td>0.118</td>\n",
       "      <td>0.000</td>\n",
       "    </tr>\n",
       "    <tr>\n",
       "      <th>99995</th>\n",
       "      <td>124883</td>\n",
       "      <td>11</td>\n",
       "      <td>1</td>\n",
       "      <td>19</td>\n",
       "      <td>122</td>\n",
       "      <td>0</td>\n",
       "      <td>13</td>\n",
       "      <td>9</td>\n",
       "      <td>3</td>\n",
       "      <td>0.178</td>\n",
       "      <td>0.000</td>\n",
       "      <td>0.155</td>\n",
       "      <td>0.172</td>\n",
       "      <td>0.000</td>\n",
       "    </tr>\n",
       "    <tr>\n",
       "      <th>99996</th>\n",
       "      <td>85150</td>\n",
       "      <td>9</td>\n",
       "      <td>1</td>\n",
       "      <td>13</td>\n",
       "      <td>244</td>\n",
       "      <td>0</td>\n",
       "      <td>11</td>\n",
       "      <td>7</td>\n",
       "      <td>1</td>\n",
       "      <td>0.187</td>\n",
       "      <td>0.000</td>\n",
       "      <td>0.155</td>\n",
       "      <td>0.118</td>\n",
       "      <td>0.000</td>\n",
       "    </tr>\n",
       "    <tr>\n",
       "      <th>99997</th>\n",
       "      <td>18839</td>\n",
       "      <td>3</td>\n",
       "      <td>1</td>\n",
       "      <td>13</td>\n",
       "      <td>19</td>\n",
       "      <td>0</td>\n",
       "      <td>11</td>\n",
       "      <td>8</td>\n",
       "      <td>2</td>\n",
       "      <td>0.187</td>\n",
       "      <td>0.000</td>\n",
       "      <td>0.155</td>\n",
       "      <td>0.118</td>\n",
       "      <td>0.000</td>\n",
       "    </tr>\n",
       "    <tr>\n",
       "      <th>99998</th>\n",
       "      <td>114276</td>\n",
       "      <td>15</td>\n",
       "      <td>1</td>\n",
       "      <td>12</td>\n",
       "      <td>245</td>\n",
       "      <td>0</td>\n",
       "      <td>17</td>\n",
       "      <td>8</td>\n",
       "      <td>2</td>\n",
       "      <td>0.092</td>\n",
       "      <td>0.000</td>\n",
       "      <td>0.155</td>\n",
       "      <td>0.091</td>\n",
       "      <td>0.000</td>\n",
       "    </tr>\n",
       "    <tr>\n",
       "      <th>99999</th>\n",
       "      <td>119349</td>\n",
       "      <td>14</td>\n",
       "      <td>1</td>\n",
       "      <td>15</td>\n",
       "      <td>401</td>\n",
       "      <td>0</td>\n",
       "      <td>14</td>\n",
       "      <td>7</td>\n",
       "      <td>1</td>\n",
       "      <td>0.306</td>\n",
       "      <td>0.000</td>\n",
       "      <td>0.155</td>\n",
       "      <td>0.167</td>\n",
       "      <td>0.000</td>\n",
       "    </tr>\n",
       "  </tbody>\n",
       "</table>\n",
       "</div>"
      ],
      "text/plain": [
       "           ip  app  device  os  channel  is_attributed  hour  day  wday  \\\n",
       "99990   84388    9       1  22      107              0     4    9     3   \n",
       "99991   43374    1       1  18      134              0    12    9     3   \n",
       "99992  125061   12       1  13      328              0     9    7     1   \n",
       "99993  146258    3       1  13      280              0     3    9     3   \n",
       "99994  147153   13       1  13      477              0     7    7     1   \n",
       "99995  124883   11       1  19      122              0    13    9     3   \n",
       "99996   85150    9       1  13      244              0    11    7     1   \n",
       "99997   18839    3       1  13       19              0    11    8     2   \n",
       "99998  114276   15       1  12      245              0    17    8     2   \n",
       "99999  119349   14       1  15      401              0    14    7     1   \n",
       "\n",
       "       h_download_rate  i_download_rate  d_download_rate  o_download_rate  \\\n",
       "99990            0.166            0.000            0.155            0.149   \n",
       "99991            0.263            0.000            0.155            0.083   \n",
       "99992            0.205            0.000            0.155            0.118   \n",
       "99993            0.285            0.000            0.155            0.118   \n",
       "99994            0.255            0.000            0.155            0.118   \n",
       "99995            0.178            0.000            0.155            0.172   \n",
       "99996            0.187            0.000            0.155            0.118   \n",
       "99997            0.187            0.000            0.155            0.118   \n",
       "99998            0.092            0.000            0.155            0.091   \n",
       "99999            0.306            0.000            0.155            0.167   \n",
       "\n",
       "       c_download_rate  \n",
       "99990            0.022  \n",
       "99991            0.031  \n",
       "99992            0.000  \n",
       "99993            0.025  \n",
       "99994            0.000  \n",
       "99995            0.000  \n",
       "99996            0.000  \n",
       "99997            0.000  \n",
       "99998            0.000  \n",
       "99999            0.000  "
      ]
     },
     "execution_count": 13,
     "metadata": {},
     "output_type": "execute_result"
    }
   ],
   "source": [
    "train_df.tail(10)"
   ]
  },
  {
   "cell_type": "code",
   "execution_count": 12,
   "metadata": {},
   "outputs": [
    {
     "data": {
      "text/html": [
       "<div>\n",
       "<style scoped>\n",
       "    .dataframe tbody tr th:only-of-type {\n",
       "        vertical-align: middle;\n",
       "    }\n",
       "\n",
       "    .dataframe tbody tr th {\n",
       "        vertical-align: top;\n",
       "    }\n",
       "\n",
       "    .dataframe thead th {\n",
       "        text-align: right;\n",
       "    }\n",
       "</style>\n",
       "<table border=\"1\" class=\"dataframe\">\n",
       "  <thead>\n",
       "    <tr style=\"text-align: right;\">\n",
       "      <th></th>\n",
       "      <th>ip</th>\n",
       "      <th>app</th>\n",
       "      <th>device</th>\n",
       "      <th>os</th>\n",
       "      <th>channel</th>\n",
       "      <th>click_time</th>\n",
       "    </tr>\n",
       "  </thead>\n",
       "  <tbody>\n",
       "    <tr>\n",
       "      <th>18790459</th>\n",
       "      <td>102467</td>\n",
       "      <td>15</td>\n",
       "      <td>1</td>\n",
       "      <td>17</td>\n",
       "      <td>140</td>\n",
       "      <td>2017-11-10 15:00:00</td>\n",
       "    </tr>\n",
       "    <tr>\n",
       "      <th>18790460</th>\n",
       "      <td>80537</td>\n",
       "      <td>9</td>\n",
       "      <td>1</td>\n",
       "      <td>19</td>\n",
       "      <td>445</td>\n",
       "      <td>2017-11-10 15:00:00</td>\n",
       "    </tr>\n",
       "    <tr>\n",
       "      <th>18790461</th>\n",
       "      <td>101214</td>\n",
       "      <td>2</td>\n",
       "      <td>2</td>\n",
       "      <td>16</td>\n",
       "      <td>237</td>\n",
       "      <td>2017-11-10 15:00:00</td>\n",
       "    </tr>\n",
       "    <tr>\n",
       "      <th>18790462</th>\n",
       "      <td>113418</td>\n",
       "      <td>17</td>\n",
       "      <td>1</td>\n",
       "      <td>17</td>\n",
       "      <td>128</td>\n",
       "      <td>2017-11-10 15:00:00</td>\n",
       "    </tr>\n",
       "    <tr>\n",
       "      <th>18790463</th>\n",
       "      <td>69245</td>\n",
       "      <td>12</td>\n",
       "      <td>1</td>\n",
       "      <td>13</td>\n",
       "      <td>135</td>\n",
       "      <td>2017-11-10 15:00:00</td>\n",
       "    </tr>\n",
       "    <tr>\n",
       "      <th>18790464</th>\n",
       "      <td>99442</td>\n",
       "      <td>9</td>\n",
       "      <td>1</td>\n",
       "      <td>13</td>\n",
       "      <td>127</td>\n",
       "      <td>2017-11-10 15:00:00</td>\n",
       "    </tr>\n",
       "    <tr>\n",
       "      <th>18790465</th>\n",
       "      <td>88046</td>\n",
       "      <td>23</td>\n",
       "      <td>1</td>\n",
       "      <td>37</td>\n",
       "      <td>153</td>\n",
       "      <td>2017-11-10 15:00:00</td>\n",
       "    </tr>\n",
       "    <tr>\n",
       "      <th>18790466</th>\n",
       "      <td>81398</td>\n",
       "      <td>18</td>\n",
       "      <td>1</td>\n",
       "      <td>17</td>\n",
       "      <td>265</td>\n",
       "      <td>2017-11-10 15:00:00</td>\n",
       "    </tr>\n",
       "    <tr>\n",
       "      <th>18790467</th>\n",
       "      <td>123236</td>\n",
       "      <td>27</td>\n",
       "      <td>1</td>\n",
       "      <td>13</td>\n",
       "      <td>122</td>\n",
       "      <td>2017-11-10 15:00:00</td>\n",
       "    </tr>\n",
       "    <tr>\n",
       "      <th>18790468</th>\n",
       "      <td>73516</td>\n",
       "      <td>12</td>\n",
       "      <td>2</td>\n",
       "      <td>27</td>\n",
       "      <td>265</td>\n",
       "      <td>2017-11-10 15:00:00</td>\n",
       "    </tr>\n",
       "  </tbody>\n",
       "</table>\n",
       "</div>"
      ],
      "text/plain": [
       "              ip  app  device  os  channel           click_time\n",
       "18790459  102467   15       1  17      140  2017-11-10 15:00:00\n",
       "18790460   80537    9       1  19      445  2017-11-10 15:00:00\n",
       "18790461  101214    2       2  16      237  2017-11-10 15:00:00\n",
       "18790462  113418   17       1  17      128  2017-11-10 15:00:00\n",
       "18790463   69245   12       1  13      135  2017-11-10 15:00:00\n",
       "18790464   99442    9       1  13      127  2017-11-10 15:00:00\n",
       "18790465   88046   23       1  37      153  2017-11-10 15:00:00\n",
       "18790466   81398   18       1  17      265  2017-11-10 15:00:00\n",
       "18790467  123236   27       1  13      122  2017-11-10 15:00:00\n",
       "18790468   73516   12       2  27      265  2017-11-10 15:00:00"
      ]
     },
     "execution_count": 12,
     "metadata": {},
     "output_type": "execute_result"
    }
   ],
   "source": [
    "test.tail(10)"
   ]
  },
  {
   "cell_type": "code",
   "execution_count": 40,
   "metadata": {},
   "outputs": [
    {
     "data": {
      "text/html": [
       "<div>\n",
       "<style scoped>\n",
       "    .dataframe tbody tr th:only-of-type {\n",
       "        vertical-align: middle;\n",
       "    }\n",
       "\n",
       "    .dataframe tbody tr th {\n",
       "        vertical-align: top;\n",
       "    }\n",
       "\n",
       "    .dataframe thead th {\n",
       "        text-align: right;\n",
       "    }\n",
       "</style>\n",
       "<table border=\"1\" class=\"dataframe\">\n",
       "  <thead>\n",
       "    <tr style=\"text-align: right;\">\n",
       "      <th></th>\n",
       "      <th>ip</th>\n",
       "      <th>app</th>\n",
       "      <th>os</th>\n",
       "      <th>channel</th>\n",
       "      <th>hour</th>\n",
       "      <th>h_download_rate</th>\n",
       "    </tr>\n",
       "  </thead>\n",
       "  <tbody>\n",
       "    <tr>\n",
       "      <th>0</th>\n",
       "      <td>9</td>\n",
       "      <td>9</td>\n",
       "      <td>13</td>\n",
       "      <td>244</td>\n",
       "      <td>16</td>\n",
       "      <td>0.000</td>\n",
       "    </tr>\n",
       "    <tr>\n",
       "      <th>1</th>\n",
       "      <td>10</td>\n",
       "      <td>11</td>\n",
       "      <td>22</td>\n",
       "      <td>319</td>\n",
       "      <td>1</td>\n",
       "      <td>0.294</td>\n",
       "    </tr>\n",
       "    <tr>\n",
       "      <th>2</th>\n",
       "      <td>10</td>\n",
       "      <td>12</td>\n",
       "      <td>19</td>\n",
       "      <td>140</td>\n",
       "      <td>7</td>\n",
       "      <td>0.255</td>\n",
       "    </tr>\n",
       "    <tr>\n",
       "      <th>3</th>\n",
       "      <td>10</td>\n",
       "      <td>18</td>\n",
       "      <td>13</td>\n",
       "      <td>107</td>\n",
       "      <td>11</td>\n",
       "      <td>0.187</td>\n",
       "    </tr>\n",
       "    <tr>\n",
       "      <th>4</th>\n",
       "      <td>19</td>\n",
       "      <td>14</td>\n",
       "      <td>16</td>\n",
       "      <td>379</td>\n",
       "      <td>9</td>\n",
       "      <td>0.205</td>\n",
       "    </tr>\n",
       "  </tbody>\n",
       "</table>\n",
       "</div>"
      ],
      "text/plain": [
       "   ip  app  os  channel  hour  h_download_rate\n",
       "0   9    9  13      244    16            0.000\n",
       "1  10   11  22      319     1            0.294\n",
       "2  10   12  19      140     7            0.255\n",
       "3  10   18  13      107    11            0.187\n",
       "4  19   14  16      379     9            0.205"
      ]
     },
     "execution_count": 40,
     "metadata": {},
     "output_type": "execute_result"
    }
   ],
   "source": [
    "a = train_df[['ip','app','os','channel','hour','h_download_rate']].groupby(by=['ip','app','os','channel','hour'])[['h_download_rate']].mean().reset_index()\n",
    "a.head()"
   ]
  },
  {
   "cell_type": "code",
   "execution_count": 35,
   "metadata": {
    "collapsed": true
   },
   "outputs": [],
   "source": [
    "def prep_data1(d):\n",
    "    \n",
    "    print('grouping by ip-day-hour combination')\n",
    "    gp = d[['ip','app','os','channel','hour','h_download_rate']].groupby(by=['ip','app','os','channel','hour'])[['h_download_rate']].mean().reset_index()\n",
    "    d = d.merge(gp, on=['ip','app','os','channel','hour'], how='left')\n",
    "    del gp; gc.collect()\n",
    "    \n",
    "    return d"
   ]
  },
  {
   "cell_type": "code",
   "execution_count": 26,
   "metadata": {},
   "outputs": [
    {
     "data": {
      "text/html": [
       "<div>\n",
       "<style scoped>\n",
       "    .dataframe tbody tr th:only-of-type {\n",
       "        vertical-align: middle;\n",
       "    }\n",
       "\n",
       "    .dataframe tbody tr th {\n",
       "        vertical-align: top;\n",
       "    }\n",
       "\n",
       "    .dataframe thead th {\n",
       "        text-align: right;\n",
       "    }\n",
       "</style>\n",
       "<table border=\"1\" class=\"dataframe\">\n",
       "  <thead>\n",
       "    <tr style=\"text-align: right;\">\n",
       "      <th></th>\n",
       "      <th></th>\n",
       "      <th></th>\n",
       "      <th>channel</th>\n",
       "    </tr>\n",
       "    <tr>\n",
       "      <th>ip</th>\n",
       "      <th>day</th>\n",
       "      <th>hour</th>\n",
       "      <th></th>\n",
       "    </tr>\n",
       "  </thead>\n",
       "  <tbody>\n",
       "    <tr>\n",
       "      <th>9</th>\n",
       "      <th>7</th>\n",
       "      <th>16</th>\n",
       "      <td>1</td>\n",
       "    </tr>\n",
       "    <tr>\n",
       "      <th rowspan=\"3\" valign=\"top\">10</th>\n",
       "      <th rowspan=\"2\" valign=\"top\">7</th>\n",
       "      <th>1</th>\n",
       "      <td>1</td>\n",
       "    </tr>\n",
       "    <tr>\n",
       "      <th>7</th>\n",
       "      <td>1</td>\n",
       "    </tr>\n",
       "    <tr>\n",
       "      <th>8</th>\n",
       "      <th>11</th>\n",
       "      <td>1</td>\n",
       "    </tr>\n",
       "    <tr>\n",
       "      <th>19</th>\n",
       "      <th>8</th>\n",
       "      <th>9</th>\n",
       "      <td>1</td>\n",
       "    </tr>\n",
       "  </tbody>\n",
       "</table>\n",
       "</div>"
      ],
      "text/plain": [
       "             channel\n",
       "ip day hour         \n",
       "9  7   16          1\n",
       "10 7   1           1\n",
       "       7           1\n",
       "   8   11          1\n",
       "19 8   9           1"
      ]
     },
     "execution_count": 26,
     "metadata": {},
     "output_type": "execute_result"
    }
   ],
   "source": [
    "train_sample[['ip','day','hour','channel']].head()\n",
    "train_sample[['ip','day','hour','channel']].groupby(by=['ip','day','hour'])[['channel']].count().head()"
   ]
  },
  {
   "cell_type": "code",
   "execution_count": 9,
   "metadata": {},
   "outputs": [
    {
     "ename": "NameError",
     "evalue": "name 'data' is not defined",
     "output_type": "error",
     "traceback": [
      "\u001b[0;31m---------------------------------------------------------------------------\u001b[0m",
      "\u001b[0;31mNameError\u001b[0m                                 Traceback (most recent call last)",
      "\u001b[0;32m<ipython-input-9-ecb1a9ea1633>\u001b[0m in \u001b[0;36m<module>\u001b[0;34m()\u001b[0m\n\u001b[1;32m      1\u001b[0m \u001b[0;31m# Change time\u001b[0m\u001b[0;34m\u001b[0m\u001b[0;34m\u001b[0m\u001b[0m\n\u001b[0;32m----> 2\u001b[0;31m \u001b[0mdata\u001b[0m\u001b[0;34m[\u001b[0m\u001b[0;34m'click_time_dt'\u001b[0m\u001b[0;34m]\u001b[0m\u001b[0;34m=\u001b[0m \u001b[0mpd\u001b[0m\u001b[0;34m.\u001b[0m\u001b[0mto_datetime\u001b[0m\u001b[0;34m(\u001b[0m\u001b[0mdata\u001b[0m\u001b[0;34m[\u001b[0m\u001b[0;34m'click_time'\u001b[0m\u001b[0;34m]\u001b[0m\u001b[0;34m)\u001b[0m\u001b[0;34m\u001b[0m\u001b[0m\n\u001b[0m\u001b[1;32m      3\u001b[0m \u001b[0mdt\u001b[0m\u001b[0;34m=\u001b[0m \u001b[0mdata\u001b[0m\u001b[0;34m[\u001b[0m\u001b[0;34m'click_time_dt'\u001b[0m\u001b[0;34m]\u001b[0m\u001b[0;34m.\u001b[0m\u001b[0mdt\u001b[0m\u001b[0;34m\u001b[0m\u001b[0m\n\u001b[1;32m      4\u001b[0m \u001b[0mdata\u001b[0m\u001b[0;34m[\u001b[0m\u001b[0;34m'day'\u001b[0m\u001b[0;34m]\u001b[0m \u001b[0;34m=\u001b[0m \u001b[0mdt\u001b[0m\u001b[0;34m.\u001b[0m\u001b[0mday\u001b[0m\u001b[0;34m.\u001b[0m\u001b[0mastype\u001b[0m\u001b[0;34m(\u001b[0m\u001b[0;34m'uint8'\u001b[0m\u001b[0;34m)\u001b[0m\u001b[0;34m\u001b[0m\u001b[0m\n\u001b[1;32m      5\u001b[0m \u001b[0mdata\u001b[0m\u001b[0;34m[\u001b[0m\u001b[0;34m'hour'\u001b[0m\u001b[0;34m]\u001b[0m \u001b[0;34m=\u001b[0m \u001b[0mdt\u001b[0m\u001b[0;34m.\u001b[0m\u001b[0mhour\u001b[0m\u001b[0;34m.\u001b[0m\u001b[0mastype\u001b[0m\u001b[0;34m(\u001b[0m\u001b[0;34m'uint8'\u001b[0m\u001b[0;34m)\u001b[0m\u001b[0;34m\u001b[0m\u001b[0m\n",
      "\u001b[0;31mNameError\u001b[0m: name 'data' is not defined"
     ]
    }
   ],
   "source": [
    "# Change time\n",
    "data['click_time_dt']= pd.to_datetime(data['click_time'])\n",
    "dt= data['click_time_dt'].dt\n",
    "data['day'] = dt.day.astype('uint8')\n",
    "data['hour'] = dt.hour.astype('uint8')\n",
    "data['minute'] = dt.minute.astype('uint8')"
   ]
  },
  {
   "cell_type": "code",
   "execution_count": null,
   "metadata": {},
   "outputs": [],
   "source": [
    "count_per_hour = data.groupby('hour', as_index = False).count()\n",
    "count_per_hour.head()"
   ]
  },
  {
   "cell_type": "code",
   "execution_count": null,
   "metadata": {},
   "outputs": [],
   "source": [
    "count_per_hour = count_per_hour[['hour', 'app', 'attributed_time']]\n",
    "count_per_hour.head()"
   ]
  },
  {
   "cell_type": "code",
   "execution_count": null,
   "metadata": {},
   "outputs": [],
   "source": [
    "count_per_hour = count_per_hour.rename(columns = {'app': 'click_count', 'attributed_time': 'download_count'})\n",
    "count_per_hour['download_rate'] = count_per_hour['download_count'] / count_per_hour['click_count'] * 100\n",
    "count_per_hour.head()"
   ]
  },
  {
   "cell_type": "code",
   "execution_count": null,
   "metadata": {},
   "outputs": [],
   "source": [
    "data.head()"
   ]
  },
  {
   "cell_type": "code",
   "execution_count": null,
   "metadata": {
    "collapsed": true
   },
   "outputs": [],
   "source": [
    "#What I cannot find meaningful result\n",
    "data = data.drop('click_time_dt', axis = 1)"
   ]
  },
  {
   "cell_type": "code",
   "execution_count": null,
   "metadata": {},
   "outputs": [],
   "source": [
    "count_per_hour = data.groupby('hour', as_index = False).count()\n",
    "count_per_hour.head()"
   ]
  },
  {
   "cell_type": "code",
   "execution_count": null,
   "metadata": {},
   "outputs": [],
   "source": [
    "gp = data[['hour', 'app', 'attributed_time']].groupby(by='hour').count().reset_index()\n",
    "gp.head()"
   ]
  },
  {
   "cell_type": "code",
   "execution_count": null,
   "metadata": {},
   "outputs": [],
   "source": [
    "gp = gp.rename(columns = {'app': 'click_count', 'attributed_time': 'download_count'})\n",
    "gp['h_download_rate'] = gp['download_count'] / gp['click_count'] * 100\n",
    "gp.head()"
   ]
  },
  {
   "cell_type": "code",
   "execution_count": null,
   "metadata": {},
   "outputs": [],
   "source": [
    "click_ip_count = data.groupby('ip', as_index= False)['device'].aggregate('count').sort_values('device', ascending=False)\n",
    "click_ip_count = click_ip_count.rename(columns={'device':'count'})\n",
    "click_ip_count.head()"
   ]
  },
  {
   "cell_type": "code",
   "execution_count": null,
   "metadata": {},
   "outputs": [],
   "source": [
    "ip_click_ranking = data.groupby('ip', as_index = False).count().sort_values(by = 'app', ascending=False)\n",
    "ip_click_ranking = ip_click_ranking[['ip', 'app']]\n",
    "ip_click_ranking = ip_click_ranking.rename(columns={'app':'click_count'})\n",
    "ip_click_ranking.head(10)"
   ]
  },
  {
   "cell_type": "code",
   "execution_count": null,
   "metadata": {},
   "outputs": [],
   "source": [
    "ip_click_download = data.groupby('ip', as_index = False).sum().sort_values(by='app', ascending = False).reset_index()\n",
    "ip_click_download = ip_click_download[['ip', 'app', 'is_attributed']]\n",
    "ip_click_download = ip_click_download.rename(columns={'is_attributed': 'download_count', 'app': 'click_count'})\n",
    "\n",
    "ip_click_download.head()"
   ]
  },
  {
   "cell_type": "code",
   "execution_count": null,
   "metadata": {},
   "outputs": [],
   "source": [
    "ip_click_download['i_download_rate'] = ip_click_download['download_count'] / ip_click_download['click_count'] * 100\n",
    "ip_click_download.head()"
   ]
  },
  {
   "cell_type": "code",
   "execution_count": null,
   "metadata": {
    "collapsed": true
   },
   "outputs": [],
   "source": [
    "data = data.merge(ip_click_download[['ip','i_download_rate']], on='ip' ,how='left')"
   ]
  },
  {
   "cell_type": "code",
   "execution_count": null,
   "metadata": {},
   "outputs": [],
   "source": [
    "dll_cnt_device = data.groupby('device', as_index=False).sum().sort_values(by='is_attributed', ascending=False)\n",
    "dll_cnt_device = dll_cnt_device[['device', 'is_attributed']]\n",
    "dll_cnt_device = dll_cnt_device.rename(columns={'is_attributed': 'download_count'})\n",
    "dll_cnt_device.head()"
   ]
  },
  {
   "cell_type": "code",
   "execution_count": null,
   "metadata": {},
   "outputs": [],
   "source": [
    "click_cnt_device = data.groupby('device', as_index=False).count().sort_values(by='app', ascending=False)\n",
    "click_cnt_device = click_cnt_device[['device', 'app']]\n",
    "click_cnt_device = click_cnt_device.rename(columns={'app': 'click_count'})\n",
    "click_cnt_device.head()"
   ]
  },
  {
   "cell_type": "code",
   "execution_count": null,
   "metadata": {},
   "outputs": [],
   "source": [
    "device_click_download_df = pd.merge(click_cnt_device, dll_cnt_device, on='device') \n",
    "device_click_download_df['d_download_rate'] = device_click_download_df['download_count']/ device_click_download_df['click_count'] * 100 \n",
    "device_click_download_df.head()"
   ]
  },
  {
   "cell_type": "code",
   "execution_count": null,
   "metadata": {
    "collapsed": true
   },
   "outputs": [],
   "source": [
    "data = data.merge(device_click_download_df[['device','d_download_rate']], on='device' ,how='left')"
   ]
  },
  {
   "cell_type": "code",
   "execution_count": null,
   "metadata": {},
   "outputs": [],
   "source": [
    "dll_cnt_os = data.groupby('os', as_index=False).sum().sort_values(by='is_attributed', ascending=False)\n",
    "dll_cnt_os = dll_cnt_os[['os', 'is_attributed']]\n",
    "dll_cnt_os = dll_cnt_os.rename(columns={'is_attributed': 'download_count'})\n",
    "dll_cnt_os.head()"
   ]
  },
  {
   "cell_type": "code",
   "execution_count": null,
   "metadata": {},
   "outputs": [],
   "source": [
    "click_cnt_os = data.groupby('os', as_index=False).count().sort_values(by='app', ascending=False)\n",
    "click_cnt_os = click_cnt_os[['os', 'app']]\n",
    "click_cnt_os = click_cnt_os.rename(columns={'app': 'click_count'})\n",
    "click_cnt_os.head()"
   ]
  },
  {
   "cell_type": "code",
   "execution_count": null,
   "metadata": {},
   "outputs": [],
   "source": [
    "os_click_download_df = pd.merge(click_cnt_os, dll_cnt_os, on='os') \n",
    "os_click_download_df['o_download_rate'] = os_click_download_df['download_count']/ os_click_download_df['click_count'] * 100 \n",
    "os_click_download_df.head()"
   ]
  },
  {
   "cell_type": "code",
   "execution_count": null,
   "metadata": {
    "collapsed": true
   },
   "outputs": [],
   "source": [
    "data = data.merge(os_click_download_df[['os','o_download_rate']], on='os' ,how='left')"
   ]
  },
  {
   "cell_type": "code",
   "execution_count": null,
   "metadata": {},
   "outputs": [],
   "source": [
    "click_ip_count = data.groupby('app', as_index= False)['device'].aggregate('count').sort_values('device', ascending=False)\n",
    "click_ip_count = click_ip_count.rename(columns={'device':'click_count'})\n",
    "click_ip_count = click_ip_count[click_ip_count['click_count'] > 100]\n",
    "click_ip_count.head()"
   ]
  },
  {
   "cell_type": "code",
   "execution_count": null,
   "metadata": {},
   "outputs": [],
   "source": [
    "click_cnt_channel = data.groupby('channel', as_index=False).count().sort_values(by='app', ascending=False)\n",
    "click_cnt_channel = click_cnt_channel[['channel', 'app']]\n",
    "click_cnt_channel = click_cnt_channel.rename(columns={'app': 'click_count'})\n",
    "\n",
    "click_cnt_channel.head()"
   ]
  },
  {
   "cell_type": "code",
   "execution_count": null,
   "metadata": {},
   "outputs": [],
   "source": [
    "channel_click_download_df = pd.merge(click_cnt_channel, dll_cnt_channel, on='channel') \n",
    "channel_click_download_df['c_download_rate'] = channel_click_download_df['download_count']/ channel_click_download_df['click_count'] * 100 \n",
    "channel_click_download_df.head(10)"
   ]
  },
  {
   "cell_type": "code",
   "execution_count": null,
   "metadata": {
    "collapsed": true
   },
   "outputs": [],
   "source": [
    "data = data.merge(channel_click_download_df[['channel','c_download_rate']], on='channel' ,how='left')"
   ]
  },
  {
   "cell_type": "code",
   "execution_count": null,
   "metadata": {},
   "outputs": [],
   "source": [
    "data.head()"
   ]
  },
  {
   "cell_type": "code",
   "execution_count": null,
   "metadata": {
    "collapsed": true
   },
   "outputs": [],
   "source": [
    "data = data.drop(['click_time','attributed_time'], axis=1)"
   ]
  },
  {
   "cell_type": "code",
   "execution_count": null,
   "metadata": {},
   "outputs": [],
   "source": [
    "data.head(30)"
   ]
  },
  {
   "cell_type": "code",
   "execution_count": null,
   "metadata": {
    "collapsed": true
   },
   "outputs": [],
   "source": [
    "RANDOM_SEED = 1\n",
    "import random\n",
    "random.seed(RANDOM_SEED)\n",
    "np.random.seed(RANDOM_SEED)\n",
    "\n",
    "X_train, X_test = train_test_split(data, test_size=0.1, random_state=RANDOM_SEED)\n",
    "\n",
    "y_train = X_train['is_attributed']\n",
    "X_train = X_train.drop(['is_attributed'], axis=1)\n",
    "y_test = X_test['is_attributed']\n",
    "X_test = X_test.drop(['is_attributed'], axis=1)"
   ]
  },
  {
   "cell_type": "code",
   "execution_count": null,
   "metadata": {},
   "outputs": [],
   "source": [
    "from sklearn.ensemble import RandomForestClassifier\n",
    "\n",
    "rf = RandomForestClassifier(max_depth=9, random_state=0)\n",
    "rf.fit(X_train, y_train)"
   ]
  },
  {
   "cell_type": "code",
   "execution_count": null,
   "metadata": {},
   "outputs": [],
   "source": [
    "predictions = rf.predict_proba(X_test)\n",
    "predictions"
   ]
  },
  {
   "cell_type": "code",
   "execution_count": null,
   "metadata": {
    "collapsed": true
   },
   "outputs": [],
   "source": [
    "def convert_preds(raw_preds):\n",
    "    preds = []\n",
    "    for p in raw_preds:\n",
    "        preds.append(1 - p[0])\n",
    "    return preds"
   ]
  },
  {
   "cell_type": "code",
   "execution_count": null,
   "metadata": {
    "collapsed": true
   },
   "outputs": [],
   "source": [
    "val_preds = convert_preds(predictions)"
   ]
  },
  {
   "cell_type": "code",
   "execution_count": null,
   "metadata": {},
   "outputs": [],
   "source": [
    "max(val_preds)"
   ]
  },
  {
   "cell_type": "code",
   "execution_count": null,
   "metadata": {},
   "outputs": [],
   "source": [
    "import matplotlib.pyplot as plt\n",
    "from sklearn.metrics import (confusion_matrix, precision_recall_curve, auc,\n",
    "                             roc_curve, recall_score, classification_report, f1_score,\n",
    "                             precision_recall_fscore_support)\n",
    "\n",
    "fpr, tpr, thresholds = roc_curve(y_test, val_preds)\n",
    "roc_auc = auc(fpr, tpr)\n",
    "\n",
    "plt.title('Receiver Operating Characteristic')\n",
    "plt.plot(fpr, tpr, label='AUC = %0.4f'% roc_auc)\n",
    "plt.legend(loc='lower right')\n",
    "plt.plot([0,1],[0,1],'r--')\n",
    "plt.xlim([-0.001, 1])\n",
    "plt.ylim([0, 1.001])\n",
    "plt.ylabel('True Positive Rate')\n",
    "plt.xlabel('False Positive Rate')\n",
    "plt.show();"
   ]
  },
  {
   "cell_type": "code",
   "execution_count": null,
   "metadata": {},
   "outputs": [],
   "source": [
    "test.tail()"
   ]
  },
  {
   "cell_type": "code",
   "execution_count": null,
   "metadata": {
    "collapsed": true
   },
   "outputs": [],
   "source": []
  },
  {
   "cell_type": "code",
   "execution_count": null,
   "metadata": {
    "collapsed": true
   },
   "outputs": [],
   "source": []
  },
  {
   "cell_type": "code",
   "execution_count": null,
   "metadata": {
    "collapsed": true
   },
   "outputs": [],
   "source": []
  }
 ],
 "metadata": {
  "kernelspec": {
   "display_name": "Python 3",
   "language": "python",
   "name": "python3"
  },
  "language_info": {
   "codemirror_mode": {
    "name": "ipython",
    "version": 3
   },
   "file_extension": ".py",
   "mimetype": "text/x-python",
   "name": "python",
   "nbconvert_exporter": "python",
   "pygments_lexer": "ipython3",
   "version": "3.6.3"
  }
 },
 "nbformat": 4,
 "nbformat_minor": 2
}
